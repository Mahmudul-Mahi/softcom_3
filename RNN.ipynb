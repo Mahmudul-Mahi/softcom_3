{
  "nbformat": 4,
  "nbformat_minor": 0,
  "metadata": {
    "colab": {
      "name": "Bidirectional_RNN.ipynb",
      "provenance": [],
      "collapsed_sections": []
    },
    "kernelspec": {
      "display_name": "Python 3",
      "name": "python3"
    },
    "language_info": {
      "name": "python"
    }
  },
  "cells": [
    {
      "cell_type": "code",
      "metadata": {
        "colab": {
          "base_uri": "https://localhost:8080/"
        },
        "id": "HiOEKmITXr85",
        "outputId": "cf7d374f-4673-4706-9900-61cb805a2d4b"
      },
      "source": [
        "from google.colab import drive\n",
        "drive.mount('/content/drive')"
      ],
      "execution_count": 1,
      "outputs": [
        {
          "output_type": "stream",
          "name": "stdout",
          "text": [
            "Mounted at /content/drive\n"
          ]
        }
      ]
    },
    {
      "cell_type": "code",
      "metadata": {
        "id": "v5GBLxTkYqFo"
      },
      "source": [
        "import numpy as np\n",
        "import pandas as pd\n",
        "import seaborn as sns\n",
        "import tensorflow as tf\n",
        "import matplotlib.pyplot as plt\n",
        "\n",
        "from keras.preprocessing.text import Tokenizer\n",
        "from keras.preprocessing.sequence import pad_sequences\n",
        "from keras.models import Sequential\n",
        "from keras import layers\n",
        "from keras import backend as K\n",
        "from keras.utils.vis_utils import plot_model\n",
        "\n",
        "from sklearn.metrics import accuracy_score\n",
        "from sklearn.metrics import precision_score\n",
        "from sklearn.metrics import recall_score\n",
        "from sklearn.metrics import f1_score\n",
        "from sklearn.metrics import confusion_matrix"
      ],
      "execution_count": 2,
      "outputs": []
    },
    {
      "cell_type": "code",
      "metadata": {
        "colab": {
          "base_uri": "https://localhost:8080/",
          "height": 204
        },
        "id": "S4jLUcXrYe52",
        "outputId": "68f4cd61-44f7-40c0-a13e-e5009818ad2d"
      },
      "source": [
        "url_train = '/content/drive/MyDrive/4.2/SoftCom/Dataset 3.csv'\n",
        "data = pd.read_csv(url_train, engine='python')\n",
        "data.head()"
      ],
      "execution_count": 3,
      "outputs": [
        {
          "output_type": "execute_result",
          "data": {
            "text/html": [
              "<div>\n",
              "<style scoped>\n",
              "    .dataframe tbody tr th:only-of-type {\n",
              "        vertical-align: middle;\n",
              "    }\n",
              "\n",
              "    .dataframe tbody tr th {\n",
              "        vertical-align: top;\n",
              "    }\n",
              "\n",
              "    .dataframe thead th {\n",
              "        text-align: right;\n",
              "    }\n",
              "</style>\n",
              "<table border=\"1\" class=\"dataframe\">\n",
              "  <thead>\n",
              "    <tr style=\"text-align: right;\">\n",
              "      <th></th>\n",
              "      <th>tweets</th>\n",
              "      <th>sentiment</th>\n",
              "    </tr>\n",
              "  </thead>\n",
              "  <tbody>\n",
              "    <tr>\n",
              "      <th>0</th>\n",
              "      <td>just had a real good moment. i missssssssss hi...</td>\n",
              "      <td>0</td>\n",
              "    </tr>\n",
              "    <tr>\n",
              "      <th>1</th>\n",
              "      <td>is reading manga  http://plurk.com/p/mzp1e</td>\n",
              "      <td>0</td>\n",
              "    </tr>\n",
              "    <tr>\n",
              "      <th>2</th>\n",
              "      <td>@comeagainjen http://twitpic.com/2y2lx - http:...</td>\n",
              "      <td>0</td>\n",
              "    </tr>\n",
              "    <tr>\n",
              "      <th>3</th>\n",
              "      <td>@lapcat Need to send 'em to my accountant tomo...</td>\n",
              "      <td>0</td>\n",
              "    </tr>\n",
              "    <tr>\n",
              "      <th>4</th>\n",
              "      <td>ADD ME ON MYSPACE!!!  myspace.com/LookThunder</td>\n",
              "      <td>0</td>\n",
              "    </tr>\n",
              "  </tbody>\n",
              "</table>\n",
              "</div>"
            ],
            "text/plain": [
              "                                              tweets  sentiment\n",
              "0  just had a real good moment. i missssssssss hi...          0\n",
              "1         is reading manga  http://plurk.com/p/mzp1e          0\n",
              "2  @comeagainjen http://twitpic.com/2y2lx - http:...          0\n",
              "3  @lapcat Need to send 'em to my accountant tomo...          0\n",
              "4      ADD ME ON MYSPACE!!!  myspace.com/LookThunder          0"
            ]
          },
          "metadata": {},
          "execution_count": 3
        }
      ]
    },
    {
      "cell_type": "code",
      "metadata": {
        "colab": {
          "base_uri": "https://localhost:8080/",
          "height": 204
        },
        "id": "poegRBlnZegK",
        "outputId": "97fa2ac4-48f1-4537-a74e-90d9166a812b"
      },
      "source": [
        "shuffled_data = data.sample(frac=1)\n",
        "shuffled_data.head()"
      ],
      "execution_count": 4,
      "outputs": [
        {
          "output_type": "execute_result",
          "data": {
            "text/html": [
              "<div>\n",
              "<style scoped>\n",
              "    .dataframe tbody tr th:only-of-type {\n",
              "        vertical-align: middle;\n",
              "    }\n",
              "\n",
              "    .dataframe tbody tr th {\n",
              "        vertical-align: top;\n",
              "    }\n",
              "\n",
              "    .dataframe thead th {\n",
              "        text-align: right;\n",
              "    }\n",
              "</style>\n",
              "<table border=\"1\" class=\"dataframe\">\n",
              "  <thead>\n",
              "    <tr style=\"text-align: right;\">\n",
              "      <th></th>\n",
              "      <th>tweets</th>\n",
              "      <th>sentiment</th>\n",
              "    </tr>\n",
              "  </thead>\n",
              "  <tbody>\n",
              "    <tr>\n",
              "      <th>9401</th>\n",
              "      <td>May I remind you pips. Depression is not a jok...</td>\n",
              "      <td>1</td>\n",
              "    </tr>\n",
              "    <tr>\n",
              "      <th>7987</th>\n",
              "      <td>Holland today, Chicago tonight and tomorrow fo...</td>\n",
              "      <td>0</td>\n",
              "    </tr>\n",
              "    <tr>\n",
              "      <th>1356</th>\n",
              "      <td>Going to say my prayers and go to sleep!</td>\n",
              "      <td>0</td>\n",
              "    </tr>\n",
              "    <tr>\n",
              "      <th>2600</th>\n",
              "      <td>fantastic song  ? http://blip.fm/~7aaxh</td>\n",
              "      <td>0</td>\n",
              "    </tr>\n",
              "    <tr>\n",
              "      <th>4967</th>\n",
              "      <td>@britneyfrancis the regular.. trying to find s...</td>\n",
              "      <td>0</td>\n",
              "    </tr>\n",
              "  </tbody>\n",
              "</table>\n",
              "</div>"
            ],
            "text/plain": [
              "                                                 tweets  sentiment\n",
              "9401  May I remind you pips. Depression is not a jok...          1\n",
              "7987  Holland today, Chicago tonight and tomorrow fo...          0\n",
              "1356          Going to say my prayers and go to sleep!           0\n",
              "2600            fantastic song  ? http://blip.fm/~7aaxh          0\n",
              "4967  @britneyfrancis the regular.. trying to find s...          0"
            ]
          },
          "metadata": {},
          "execution_count": 4
        }
      ]
    },
    {
      "cell_type": "code",
      "metadata": {
        "id": "thtCzpSFZtU4"
      },
      "source": [
        "shuffled_data.to_csv('/content/drive/MyDrive/4.2/SoftCom/shuffledData.csv')"
      ],
      "execution_count": null,
      "outputs": []
    },
    {
      "cell_type": "code",
      "metadata": {
        "id": "olwEV5bsaEb0",
        "colab": {
          "base_uri": "https://localhost:8080/",
          "height": 204
        },
        "outputId": "21676663-3bfa-4542-97eb-8b557c3ce8f8"
      },
      "source": [
        "url_shuffled_data ='/content/drive/MyDrive/4.2/SoftCom/shuffledData.csv'\n",
        "shuffled_data = pd.read_csv(url_shuffled_data, engine='python')\n",
        "shuffled_data.head()"
      ],
      "execution_count": null,
      "outputs": [
        {
          "output_type": "execute_result",
          "data": {
            "text/html": [
              "<div>\n",
              "<style scoped>\n",
              "    .dataframe tbody tr th:only-of-type {\n",
              "        vertical-align: middle;\n",
              "    }\n",
              "\n",
              "    .dataframe tbody tr th {\n",
              "        vertical-align: top;\n",
              "    }\n",
              "\n",
              "    .dataframe thead th {\n",
              "        text-align: right;\n",
              "    }\n",
              "</style>\n",
              "<table border=\"1\" class=\"dataframe\">\n",
              "  <thead>\n",
              "    <tr style=\"text-align: right;\">\n",
              "      <th></th>\n",
              "      <th>Unnamed: 0</th>\n",
              "      <th>tweets</th>\n",
              "      <th>sentiment</th>\n",
              "    </tr>\n",
              "  </thead>\n",
              "  <tbody>\n",
              "    <tr>\n",
              "      <th>0</th>\n",
              "      <td>9189</td>\n",
              "      <td>@Adnankhun @Nurulnxha Wuah I think Im falling ...</td>\n",
              "      <td>1</td>\n",
              "    </tr>\n",
              "    <tr>\n",
              "      <th>1</th>\n",
              "      <td>6862</td>\n",
              "      <td>Watchin a Film</td>\n",
              "      <td>0</td>\n",
              "    </tr>\n",
              "    <tr>\n",
              "      <th>2</th>\n",
              "      <td>7868</td>\n",
              "      <td>@jonnyshare Haha, I like your style</td>\n",
              "      <td>0</td>\n",
              "    </tr>\n",
              "    <tr>\n",
              "      <th>3</th>\n",
              "      <td>5355</td>\n",
              "      <td>@capsontwittter Yeah.  I don't know where. :| )))</td>\n",
              "      <td>0</td>\n",
              "    </tr>\n",
              "    <tr>\n",
              "      <th>4</th>\n",
              "      <td>4425</td>\n",
              "      <td>So glad that I have a job that doesn't make me...</td>\n",
              "      <td>0</td>\n",
              "    </tr>\n",
              "  </tbody>\n",
              "</table>\n",
              "</div>"
            ],
            "text/plain": [
              "   Unnamed: 0                                             tweets  sentiment\n",
              "0        9189  @Adnankhun @Nurulnxha Wuah I think Im falling ...          1\n",
              "1        6862                                    Watchin a Film           0\n",
              "2        7868               @jonnyshare Haha, I like your style           0\n",
              "3        5355  @capsontwittter Yeah.  I don't know where. :| )))          0\n",
              "4        4425  So glad that I have a job that doesn't make me...          0"
            ]
          },
          "metadata": {},
          "execution_count": 9
        }
      ]
    },
    {
      "cell_type": "code",
      "metadata": {
        "colab": {
          "base_uri": "https://localhost:8080/",
          "height": 204
        },
        "id": "DB5oO1O2aVzR",
        "outputId": "1ec0c1c8-d4fd-45a9-faf2-248d22f7c744"
      },
      "source": [
        "EPOCH = 15\n",
        "\n",
        "split_val = int(0.2 * shuffled_data.shape[0])\n",
        "\n",
        "dataTest = shuffled_data.iloc[-split_val :]\n",
        "dataVal = shuffled_data.iloc[- 2 * split_val : -split_val]\n",
        "dataTrain = shuffled_data.iloc[: - 2 * split_val]\n",
        "\n",
        "dataTest.head()\n",
        "\n"
      ],
      "execution_count": 5,
      "outputs": [
        {
          "output_type": "execute_result",
          "data": {
            "text/html": [
              "<div>\n",
              "<style scoped>\n",
              "    .dataframe tbody tr th:only-of-type {\n",
              "        vertical-align: middle;\n",
              "    }\n",
              "\n",
              "    .dataframe tbody tr th {\n",
              "        vertical-align: top;\n",
              "    }\n",
              "\n",
              "    .dataframe thead th {\n",
              "        text-align: right;\n",
              "    }\n",
              "</style>\n",
              "<table border=\"1\" class=\"dataframe\">\n",
              "  <thead>\n",
              "    <tr style=\"text-align: right;\">\n",
              "      <th></th>\n",
              "      <th>tweets</th>\n",
              "      <th>sentiment</th>\n",
              "    </tr>\n",
              "  </thead>\n",
              "  <tbody>\n",
              "    <tr>\n",
              "      <th>6745</th>\n",
              "      <td>I hardly ever get to say that</td>\n",
              "      <td>0</td>\n",
              "    </tr>\n",
              "    <tr>\n",
              "      <th>5871</th>\n",
              "      <td>@kylieireland Wont even go into the pool part ...</td>\n",
              "      <td>0</td>\n",
              "    </tr>\n",
              "    <tr>\n",
              "      <th>1861</th>\n",
              "      <td>@MortarWombat i want to ride my bicycle i want...</td>\n",
              "      <td>0</td>\n",
              "    </tr>\n",
              "    <tr>\n",
              "      <th>3923</th>\n",
              "      <td>This day off has been F-A-N-tastic!</td>\n",
              "      <td>0</td>\n",
              "    </tr>\n",
              "    <tr>\n",
              "      <th>2156</th>\n",
              "      <td>Bonjour twitters and twitteretts tgif</td>\n",
              "      <td>0</td>\n",
              "    </tr>\n",
              "  </tbody>\n",
              "</table>\n",
              "</div>"
            ],
            "text/plain": [
              "                                                 tweets  sentiment\n",
              "6745                     I hardly ever get to say that           0\n",
              "5871  @kylieireland Wont even go into the pool part ...          0\n",
              "1861  @MortarWombat i want to ride my bicycle i want...          0\n",
              "3923               This day off has been F-A-N-tastic!           0\n",
              "2156             Bonjour twitters and twitteretts tgif           0"
            ]
          },
          "metadata": {},
          "execution_count": 5
        }
      ]
    },
    {
      "cell_type": "code",
      "metadata": {
        "colab": {
          "base_uri": "https://localhost:8080/",
          "height": 204
        },
        "id": "UWsdBIsWbLia",
        "outputId": "11ea3ddc-088d-4fb2-cad8-077acda6d43a"
      },
      "source": [
        "dataVal.head()"
      ],
      "execution_count": 6,
      "outputs": [
        {
          "output_type": "execute_result",
          "data": {
            "text/html": [
              "<div>\n",
              "<style scoped>\n",
              "    .dataframe tbody tr th:only-of-type {\n",
              "        vertical-align: middle;\n",
              "    }\n",
              "\n",
              "    .dataframe tbody tr th {\n",
              "        vertical-align: top;\n",
              "    }\n",
              "\n",
              "    .dataframe thead th {\n",
              "        text-align: right;\n",
              "    }\n",
              "</style>\n",
              "<table border=\"1\" class=\"dataframe\">\n",
              "  <thead>\n",
              "    <tr style=\"text-align: right;\">\n",
              "      <th></th>\n",
              "      <th>tweets</th>\n",
              "      <th>sentiment</th>\n",
              "    </tr>\n",
              "  </thead>\n",
              "  <tbody>\n",
              "    <tr>\n",
              "      <th>9583</th>\n",
              "      <td>25-04-18</td>\n",
              "      <td>1</td>\n",
              "    </tr>\n",
              "    <tr>\n",
              "      <th>5160</th>\n",
              "      <td>watching movies..</td>\n",
              "      <td>0</td>\n",
              "    </tr>\n",
              "    <tr>\n",
              "      <th>4700</th>\n",
              "      <td>with my amazing boyfriend for the night..  -lo...</td>\n",
              "      <td>0</td>\n",
              "    </tr>\n",
              "    <tr>\n",
              "      <th>7317</th>\n",
              "      <td>@sunfloweryuki yuki~~ :O hai, hai nihongo wa m...</td>\n",
              "      <td>0</td>\n",
              "    </tr>\n",
              "    <tr>\n",
              "      <th>5010</th>\n",
              "      <td>taking a much needed nap  nighty night.</td>\n",
              "      <td>0</td>\n",
              "    </tr>\n",
              "  </tbody>\n",
              "</table>\n",
              "</div>"
            ],
            "text/plain": [
              "                                                 tweets  sentiment\n",
              "9583                                           25-04-18          1\n",
              "5160                                 watching movies..           0\n",
              "4700  with my amazing boyfriend for the night..  -lo...          0\n",
              "7317  @sunfloweryuki yuki~~ :O hai, hai nihongo wa m...          0\n",
              "5010            taking a much needed nap  nighty night.          0"
            ]
          },
          "metadata": {},
          "execution_count": 6
        }
      ]
    },
    {
      "cell_type": "code",
      "metadata": {
        "colab": {
          "base_uri": "https://localhost:8080/",
          "height": 204
        },
        "id": "vnjAISqobUAt",
        "outputId": "97c75e3e-6c23-4a96-ec48-9f7516a86c9d"
      },
      "source": [
        "dataTrain.head()"
      ],
      "execution_count": 7,
      "outputs": [
        {
          "output_type": "execute_result",
          "data": {
            "text/html": [
              "<div>\n",
              "<style scoped>\n",
              "    .dataframe tbody tr th:only-of-type {\n",
              "        vertical-align: middle;\n",
              "    }\n",
              "\n",
              "    .dataframe tbody tr th {\n",
              "        vertical-align: top;\n",
              "    }\n",
              "\n",
              "    .dataframe thead th {\n",
              "        text-align: right;\n",
              "    }\n",
              "</style>\n",
              "<table border=\"1\" class=\"dataframe\">\n",
              "  <thead>\n",
              "    <tr style=\"text-align: right;\">\n",
              "      <th></th>\n",
              "      <th>tweets</th>\n",
              "      <th>sentiment</th>\n",
              "    </tr>\n",
              "  </thead>\n",
              "  <tbody>\n",
              "    <tr>\n",
              "      <th>9401</th>\n",
              "      <td>May I remind you pips. Depression is not a jok...</td>\n",
              "      <td>1</td>\n",
              "    </tr>\n",
              "    <tr>\n",
              "      <th>7987</th>\n",
              "      <td>Holland today, Chicago tonight and tomorrow fo...</td>\n",
              "      <td>0</td>\n",
              "    </tr>\n",
              "    <tr>\n",
              "      <th>1356</th>\n",
              "      <td>Going to say my prayers and go to sleep!</td>\n",
              "      <td>0</td>\n",
              "    </tr>\n",
              "    <tr>\n",
              "      <th>2600</th>\n",
              "      <td>fantastic song  ? http://blip.fm/~7aaxh</td>\n",
              "      <td>0</td>\n",
              "    </tr>\n",
              "    <tr>\n",
              "      <th>4967</th>\n",
              "      <td>@britneyfrancis the regular.. trying to find s...</td>\n",
              "      <td>0</td>\n",
              "    </tr>\n",
              "  </tbody>\n",
              "</table>\n",
              "</div>"
            ],
            "text/plain": [
              "                                                 tweets  sentiment\n",
              "9401  May I remind you pips. Depression is not a jok...          1\n",
              "7987  Holland today, Chicago tonight and tomorrow fo...          0\n",
              "1356          Going to say my prayers and go to sleep!           0\n",
              "2600            fantastic song  ? http://blip.fm/~7aaxh          0\n",
              "4967  @britneyfrancis the regular.. trying to find s...          0"
            ]
          },
          "metadata": {},
          "execution_count": 7
        }
      ]
    },
    {
      "cell_type": "code",
      "metadata": {
        "id": "co1RoLcibw9n"
      },
      "source": [
        "trainX = np.array(dataTrain.iloc[:, 0])\n",
        "trainY = np.array(dataTrain.iloc[:, 1])\n",
        "\n",
        "valX = np.array(dataVal.iloc[:, 0])\n",
        "valY = np.array(dataVal.iloc[:, 1])\n",
        "\n",
        "testX = np.array(dataTest.iloc[:, 0])\n",
        "testY = np.array(dataTest.iloc[:, 1])"
      ],
      "execution_count": 8,
      "outputs": []
    },
    {
      "cell_type": "code",
      "metadata": {
        "id": "JnTPcCsAbzpy"
      },
      "source": [
        "top_k = 50000\n",
        "tokenizer = tf.keras.preprocessing.text.Tokenizer(num_words = top_k,\n",
        "                                                  oov_token = \"<unk>\",\n",
        "                                                  filters = '!\"#$%&()*+.,-/:;=?@[\\]^_`{|}~')\n",
        "tokenizer.fit_on_texts(trainX)\n",
        "\n",
        "tokenizer.word_index['<pad>'] = 0\n",
        "tokenizer.index_word[0] = '<pad>'\n",
        "\n",
        "train_seqs = tokenizer.texts_to_sequences(trainX)\n",
        "val_seqs = tokenizer.texts_to_sequences(valX)\n",
        "test_seqs = tokenizer.texts_to_sequences(testX)\n",
        "\n",
        "train_seqs = tf.keras.preprocessing.sequence.pad_sequences(train_seqs, padding = 'pre')\n",
        "val_seqs = tf.keras.preprocessing.sequence.pad_sequences(val_seqs, padding = 'pre')\n",
        "test_seqs = tf.keras.preprocessing.sequence.pad_sequences(test_seqs, padding = 'pre')"
      ],
      "execution_count": 9,
      "outputs": []
    },
    {
      "cell_type": "code",
      "metadata": {
        "colab": {
          "base_uri": "https://localhost:8080/"
        },
        "id": "0D31hH2sciAZ",
        "outputId": "a95b0b84-ae61-4018-afd7-4eaebb30fd49"
      },
      "source": [
        "model = Sequential()\n",
        "model.add(layers.Embedding(len(tokenizer.word_index), 128))\n",
        "model.add(layers.Bidirectional(layers.SimpleRNN(256, return_sequences = True, dropout = 0.2)))\n",
        "model.add(layers.Bidirectional(layers.SimpleRNN(512, return_sequences = True, dropout = 0.2)))\n",
        "model.add(layers.Bidirectional(layers.SimpleRNN(64, return_sequences = True, dropout = 0.2)))\n",
        "model.add(layers.Bidirectional(layers.SimpleRNN(8, dropout = 0.2)))\n",
        "model.add(layers.Dense(1, activation = 'sigmoid'))\n",
        "\n",
        "model.compile(loss = 'binary_crossentropy', optimizer = 'adam', metrics = ['accuracy'])\n",
        "\n",
        "model.summary()"
      ],
      "execution_count": 10,
      "outputs": [
        {
          "output_type": "stream",
          "name": "stdout",
          "text": [
            "Model: \"sequential\"\n",
            "_________________________________________________________________\n",
            "Layer (type)                 Output Shape              Param #   \n",
            "=================================================================\n",
            "embedding (Embedding)        (None, None, 128)         2080128   \n",
            "_________________________________________________________________\n",
            "bidirectional (Bidirectional (None, None, 512)         197120    \n",
            "_________________________________________________________________\n",
            "bidirectional_1 (Bidirection (None, None, 1024)        1049600   \n",
            "_________________________________________________________________\n",
            "bidirectional_2 (Bidirection (None, None, 128)         139392    \n",
            "_________________________________________________________________\n",
            "bidirectional_3 (Bidirection (None, 16)                2192      \n",
            "_________________________________________________________________\n",
            "dense (Dense)                (None, 1)                 17        \n",
            "=================================================================\n",
            "Total params: 3,468,449\n",
            "Trainable params: 3,468,449\n",
            "Non-trainable params: 0\n",
            "_________________________________________________________________\n"
          ]
        }
      ]
    },
    {
      "cell_type": "code",
      "metadata": {
        "colab": {
          "base_uri": "https://localhost:8080/",
          "height": 1000
        },
        "id": "FkOEgFIvfN76",
        "outputId": "92423411-e077-40c9-811c-22c3c69b4c78"
      },
      "source": [
        "history = model.fit(train_seqs, trainY, epochs = EPOCH, validation_data = (val_seqs, valY), verbose = 1)\n",
        "\n",
        "def plot_graphs(history, string):\n",
        "  plt.plot(history.history[string])\n",
        "  plt.plot(history.history['val_'+string])\n",
        "  plt.xlabel(\"Epochs\")\n",
        "  plt.ylabel(string)\n",
        "  plt.legend([string, 'val_'+string])\n",
        "  plt.show()\n",
        "\n",
        "plot_graphs(history, 'accuracy')\n",
        "plot_graphs(history, 'loss')\n",
        "\n",
        "print('\\nEpoch No.  Train Accuracy  Train Loss     Val Accuracy    Val Loss')\n",
        "for i in range(EPOCH):\n",
        "  print('{:8d} {:10f} \\t {:10f} \\t {:10f} \\t {:10f}'.format(i + 1, history.history['accuracy'][i], history.history['loss'][i], history.history['val_accuracy'][i], history.history['val_loss'][i]))"
      ],
      "execution_count": 11,
      "outputs": [
        {
          "output_type": "stream",
          "name": "stdout",
          "text": [
            "Epoch 1/15\n",
            "194/194 [==============================] - 185s 924ms/step - loss: 0.5509 - accuracy: 0.7627 - val_loss: 0.5470 - val_accuracy: 0.7677\n",
            "Epoch 2/15\n",
            "194/194 [==============================] - 181s 932ms/step - loss: 0.5358 - accuracy: 0.7730 - val_loss: 0.5358 - val_accuracy: 0.7735\n",
            "Epoch 3/15\n",
            "194/194 [==============================] - 182s 940ms/step - loss: 0.5209 - accuracy: 0.7850 - val_loss: 0.5364 - val_accuracy: 0.7735\n",
            "Epoch 4/15\n",
            "194/194 [==============================] - 182s 940ms/step - loss: 0.5240 - accuracy: 0.7813 - val_loss: 0.5355 - val_accuracy: 0.7721\n",
            "Epoch 5/15\n",
            "194/194 [==============================] - 183s 945ms/step - loss: 0.5240 - accuracy: 0.7793 - val_loss: 0.5404 - val_accuracy: 0.7716\n",
            "Epoch 6/15\n",
            "194/194 [==============================] - 183s 946ms/step - loss: 0.5210 - accuracy: 0.7809 - val_loss: 0.5442 - val_accuracy: 0.7716\n",
            "Epoch 7/15\n",
            "194/194 [==============================] - 182s 940ms/step - loss: 0.5226 - accuracy: 0.7800 - val_loss: 0.5621 - val_accuracy: 0.7716\n",
            "Epoch 8/15\n",
            "194/194 [==============================] - 183s 941ms/step - loss: 0.5196 - accuracy: 0.7826 - val_loss: 0.5600 - val_accuracy: 0.7716\n",
            "Epoch 9/15\n",
            "194/194 [==============================] - 182s 939ms/step - loss: 0.5199 - accuracy: 0.7813 - val_loss: 0.5618 - val_accuracy: 0.7716\n",
            "Epoch 10/15\n",
            "194/194 [==============================] - 182s 941ms/step - loss: 0.5223 - accuracy: 0.7793 - val_loss: 0.5619 - val_accuracy: 0.7721\n",
            "Epoch 11/15\n",
            "194/194 [==============================] - 183s 943ms/step - loss: 0.5167 - accuracy: 0.7866 - val_loss: 0.5557 - val_accuracy: 0.7716\n",
            "Epoch 12/15\n",
            "194/194 [==============================] - 184s 947ms/step - loss: 0.5172 - accuracy: 0.7853 - val_loss: 0.5513 - val_accuracy: 0.7726\n",
            "Epoch 13/15\n",
            "194/194 [==============================] - 184s 950ms/step - loss: 0.5193 - accuracy: 0.7830 - val_loss: 0.5516 - val_accuracy: 0.7721\n",
            "Epoch 14/15\n",
            "194/194 [==============================] - 184s 948ms/step - loss: 0.5206 - accuracy: 0.7821 - val_loss: 0.5546 - val_accuracy: 0.7716\n",
            "Epoch 15/15\n",
            "194/194 [==============================] - 182s 940ms/step - loss: 0.5205 - accuracy: 0.7816 - val_loss: 0.5569 - val_accuracy: 0.7716\n"
          ]
        },
        {
          "output_type": "display_data",
          "data": {
            "image/png": "[encoded data removed]",
            "text/plain": [
              "<Figure size 432x288 with 1 Axes>"
            ]
          },
          "metadata": {
            "needs_background": "light"
          }
        },
        {
          "output_type": "display_data",
          "data": {
            "image/png": "[encoded data removed]",
            "text/plain": [
              "<Figure size 432x288 with 1 Axes>"
            ]
          },
          "metadata": {
            "needs_background": "light"
          }
        },
        {
          "output_type": "stream",
          "name": "stdout",
          "text": [
            "\n",
            "Epoch No.  Train Accuracy  Train Loss     Val Accuracy    Val Loss\n",
            "       1   0.762682 \t   0.550945 \t   0.767701 \t   0.547000\n",
            "       2   0.773021 \t   0.535850 \t   0.773521 \t   0.535841\n",
            "       3   0.784976 \t   0.520872 \t   0.773521 \t   0.536428\n",
            "       4   0.781260 \t   0.523960 \t   0.772066 \t   0.535477\n",
            "       5   0.779321 \t   0.524005 \t   0.771581 \t   0.540393\n",
            "       6   0.780937 \t   0.521026 \t   0.771581 \t   0.544191\n",
            "       7   0.779968 \t   0.522566 \t   0.771581 \t   0.562077\n",
            "       8   0.782552 \t   0.519552 \t   0.771581 \t   0.559975\n",
            "       9   0.781260 \t   0.519879 \t   0.771581 \t   0.561778\n",
            "      10   0.779321 \t   0.522349 \t   0.772066 \t   0.561934\n",
            "      11   0.786591 \t   0.516688 \t   0.771581 \t   0.555663\n",
            "      12   0.785299 \t   0.517183 \t   0.772551 \t   0.551301\n",
            "      13   0.783037 \t   0.519260 \t   0.772066 \t   0.551605\n",
            "      14   0.782068 \t   0.520640 \t   0.771581 \t   0.554647\n",
            "      15   0.781583 \t   0.520523 \t   0.771581 \t   0.556936\n"
          ]
        }
      ]
    },
    {
      "cell_type": "code",
      "metadata": {
        "colab": {
          "base_uri": "https://localhost:8080/",
          "height": 401
        },
        "id": "3H-qbb5vpXU2",
        "outputId": "c4681a6b-244a-4840-e53b-b1a136871375"
      },
      "source": [
        "y_pred = model.predict(train_seqs)\n",
        "\n",
        "y_pred = np.where(y_pred > 0.5, 1, 0)\n",
        "y_pred = np.reshape(y_pred, (y_pred.shape[0]))\n",
        "\n",
        "loss, accuracy = model.evaluate(train_seqs, trainY, verbose = 1)\n",
        "print('Train Loss:', loss)\n",
        "print('Train Accuracy:', accuracy, '(Model Metric)')\n",
        "print('Train Accuracy:', accuracy_score(trainY, y_pred), '(sklearn Metric)')\n",
        "print('Train Precision:', precision_score(trainY, y_pred))\n",
        "print('Train Recall:', recall_score(trainY, y_pred))\n",
        "print('Train F1-score:', f1_score(trainY, y_pred))\n",
        "\n",
        "sns.heatmap(confusion_matrix(trainY, y_pred), annot = True, fmt = 'g')"
      ],
      "execution_count": 12,
      "outputs": [
        {
          "output_type": "stream",
          "name": "stdout",
          "text": [
            "194/194 [==============================] - 35s 175ms/step - loss: 0.5214 - accuracy: 0.7834\n",
            "Train Loss: 0.5214105248451233\n",
            "Train Accuracy: 0.7833602428436279 (Model Metric)\n",
            "Train Accuracy: 0.7833602584814217 (sklearn Metric)\n",
            "Train Precision: 0.6293436293436293\n",
            "Train Recall: 0.11576704545454546\n",
            "Train F1-score: 0.19556088782243553\n"
          ]
        },
        {
          "output_type": "execute_result",
          "data": {
            "text/plain": [
              "<matplotlib.axes._subplots.AxesSubplot at 0x7f63bfabfa90>"
            ]
          },
          "metadata": {},
          "execution_count": 12
        },
        {
          "output_type": "display_data",
          "data": {
            "image/png": "[encoded data removed]",
            "text/plain": [
              "<Figure size 432x288 with 2 Axes>"
            ]
          },
          "metadata": {
            "needs_background": "light"
          }
        }
      ]
    },
    {
      "cell_type": "code",
      "metadata": {
        "colab": {
          "base_uri": "https://localhost:8080/",
          "height": 401
        },
        "id": "3VIDT8KDpbFl",
        "outputId": "a057d2b9-f841-46f8-c151-9927a15b6c74"
      },
      "source": [
        "y_pred = model.predict(val_seqs)\n",
        "\n",
        "y_pred = np.where(y_pred > 0.5, 1, 0)\n",
        "y_pred = np.reshape(y_pred, (y_pred.shape[0]))\n",
        "\n",
        "loss, accuracy = model.evaluate(val_seqs, valY, verbose = 1)\n",
        "print('Validation Loss:', loss)\n",
        "print('Validation Accuracy:', accuracy, '(Model Metric)')\n",
        "print('Validation Accuracy:', accuracy_score(valY, y_pred), '(sklearn Metric)')\n",
        "print('Validation Precision:', precision_score(valY, y_pred))\n",
        "print('Validation Recall:', recall_score(valY, y_pred))\n",
        "print('Validation F1-score:', f1_score(valY, y_pred))\n",
        "\n",
        "sns.heatmap(confusion_matrix(valY, y_pred), annot = True, fmt = 'g')"
      ],
      "execution_count": 13,
      "outputs": [
        {
          "output_type": "stream",
          "name": "stdout",
          "text": [
            "65/65 [==============================] - 10s 151ms/step - loss: 0.5569 - accuracy: 0.7716\n",
            "Validation Loss: 0.5569357872009277\n",
            "Validation Accuracy: 0.7715809941291809 (Model Metric)\n",
            "Validation Accuracy: 0.7715809893307468 (sklearn Metric)\n",
            "Validation Precision: 0.475\n",
            "Validation Recall: 0.04051172707889126\n",
            "Validation F1-score: 0.07465618860510806\n"
          ]
        },
        {
          "output_type": "execute_result",
          "data": {
            "text/plain": [
              "<matplotlib.axes._subplots.AxesSubplot at 0x7f63bf833c90>"
            ]
          },
          "metadata": {},
          "execution_count": 13
        },
        {
          "output_type": "display_data",
          "data": {
            "image/png": "[encoded data removed]",
            "text/plain": [
              "<Figure size 432x288 with 2 Axes>"
            ]
          },
          "metadata": {
            "needs_background": "light"
          }
        }
      ]
    },
    {
      "cell_type": "code",
      "metadata": {
        "colab": {
          "base_uri": "https://localhost:8080/",
          "height": 404
        },
        "id": "Ank5fVIipdM5",
        "outputId": "9b35a02a-7817-453b-97bd-7eaddfc5a3b6"
      },
      "source": [
        "y_pred = model.predict(test_seqs)\n",
        "\n",
        "y_pred = np.where(y_pred > 0.5, 1, 0)\n",
        "y_pred = np.reshape(y_pred, (y_pred.shape[0]))\n",
        "\n",
        "loss, accuracy = model.evaluate(test_seqs, testY, verbose = 1)\n",
        "print('Test Loss:', loss)\n",
        "print('Test Accuracy:', accuracy, '(Model Metric)')\n",
        "print('Test Accuracy:', accuracy_score(testY, y_pred), '(sklearn Metric)')\n",
        "print('Test Precision:', precision_score(testY, y_pred))\n",
        "print('Test Recall:', recall_score(testY, y_pred))\n",
        "print('Test F1-score:', f1_score(testY, y_pred))\n",
        "\n",
        "sns.heatmap(confusion_matrix(testY, y_pred), annot = True, fmt = 'g')"
      ],
      "execution_count": 14,
      "outputs": [
        {
          "output_type": "stream",
          "name": "stdout",
          "text": [
            "65/65 [==============================] - 9s 126ms/step - loss: 0.5098 - accuracy: 0.7924\n",
            "Test Loss: 0.5097615718841553\n",
            "Test Accuracy: 0.7924345135688782 (Model Metric)\n",
            "Test Accuracy: 0.7924345295829291 (sklearn Metric)\n",
            "Test Precision: 0.6097560975609756\n",
            "Test Recall: 0.057208237986270026\n",
            "Test F1-score: 0.10460251046025106\n"
          ]
        },
        {
          "output_type": "execute_result",
          "data": {
            "text/plain": [
              "<matplotlib.axes._subplots.AxesSubplot at 0x7f63c2cd7ed0>"
            ]
          },
          "metadata": {},
          "execution_count": 14
        },
        {
          "output_type": "display_data",
          "data": {
            "image/png": "[encoded data removed]",
            "text/plain": [
              "<Figure size 432x288 with 2 Axes>"
            ]
          },
          "metadata": {
            "needs_background": "light"
          }
        }
      ]
    }
  ]
}